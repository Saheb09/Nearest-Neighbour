{
 "cells": [
  {
   "cell_type": "code",
   "execution_count": 19,
   "metadata": {},
   "outputs": [],
   "source": [
    "from sklearn.datasets import load_iris   \n",
    "import numpy as np\n",
    "iris = load_iris()    \n",
    "IONO_X = np.genfromtxt(\"ionosphere.txt\", delimiter=\",\",\n",
    "usecols=np.arange(34))\n",
    "IONO_Y = np.genfromtxt(\"ionosphere.txt\", delimiter=\",\",\n",
    "usecols=34, dtype='int')"
   ]
  },
  {
   "cell_type": "code",
   "execution_count": 20,
   "metadata": {},
   "outputs": [],
   "source": [
    "from sklearn.model_selection import train_test_split\n",
    "X_train, X_test, y_train, y_test = train_test_split(iris['data'],\n",
    "iris['target'], random_state=2608)\n",
    "IX_train, IX_test, IY_train, IY_test = train_test_split(IONO_X,IONO_Y,random_state=2608)"
   ]
  },
  {
   "cell_type": "code",
   "execution_count": 21,
   "metadata": {},
   "outputs": [],
   "source": [
    "def predict(X,Y,T):\n",
    "    r=T.shape[0]  #test sample rows \n",
    "    c=T.shape[1]  #test sample column\n",
    "    t=[]         #test array\n",
    "    s=[]         #train array\n",
    "    Distances=[]   #for storing distance values in the array\n",
    "    Label=[]       #storing labels\n",
    "    for p in range(r):\n",
    "        for q in range(c):\n",
    "            t.append(T[p][q]) \n",
    "        for i in range(r): \n",
    "            for j in range(c):\n",
    "                s.append(X[i][j]) \n",
    "            d = np.sqrt((t[0]-s[0])**2+(t[1]-s[1])**2+(t[2]-s[2])**2+(t[3]-s[3])**2)    #finding the distance\n",
    "            Distances.append(d)     #appending to distance array\n",
    "            del s[:]                #emptying train array\n",
    "        m=min(Distances)            #find min from array distance\n",
    "        index=Distances.index(m)     \n",
    "        Label.append(Y[index])\n",
    "        del Distances[:]            #emptying distance array\n",
    "        del t[:]                    #emptying test array\n",
    "    return Label\n",
    "   \n",
    "    \n"
   ]
  },
  {
   "cell_type": "code",
   "execution_count": 22,
   "metadata": {},
   "outputs": [
    {
     "name": "stdout",
     "output_type": "stream",
     "text": [
      "Label for Test Set Ionosphere is:  [1, -1, 1, -1, 1, 1, 1, -1, 1, 1, -1, -1, 1, -1, 1, 1, 1, 1, -1, 1, 1, 1, 1, 1, 1, 1, -1, 1, 1, -1, 1, 1, -1, 1, -1, 1, -1, -1, -1, 1, 1, -1, 1, 1, 1, 1, -1, 1, 1, 1, 1, -1, -1, 1, 1, 1, 1, 1, 1, 1, -1, 1, -1, 1, -1, -1, 1, -1, -1, 1, 1, -1, -1, 1, 1, 1, 1, -1, 1, 1, 1, 1, 1, -1, -1, -1, -1, -1]\n"
     ]
    }
   ],
   "source": [
    "z=predict(IX_train,IY_train,IX_test)\n",
    "print(\"Label for Test Set Ionosphere is: \",z)\n"
   ]
  },
  {
   "cell_type": "code",
   "execution_count": 23,
   "metadata": {},
   "outputs": [
    {
     "name": "stdout",
     "output_type": "stream",
     "text": [
      "Label for Test Set Iris is:  [1, 2, 1, 0, 0, 1, 0, 2, 2, 2, 0, 1, 1, 0, 1, 0, 1, 0, 1, 1, 0, 0, 0, 1, 1, 1, 2, 2, 1, 2, 2, 2, 1, 2, 1, 0, 2, 1]\n"
     ]
    }
   ],
   "source": [
    "l=predict(X_train,y_train,X_test)\n",
    "print(\"Label for Test Set Iris is: \",l)"
   ]
  },
  {
   "cell_type": "code",
   "execution_count": 24,
   "metadata": {},
   "outputs": [
    {
     "name": "stdout",
     "output_type": "stream",
     "text": [
      "Test Error Rate for Iris :  0.02631578947368418\n",
      "No of Errors for iris:  1\n"
     ]
    }
   ],
   "source": [
    "y_pred=predict(X_train,y_train,X_test)\n",
    "A = np.mean(y_pred==y_test)\n",
    "n=0\n",
    "size=y_test.shape[0]\n",
    "for k in range(size):                 # to compute total errors from iris data\n",
    "    if(y_pred[k]!=y_test[k]):\n",
    "            n=n+1        \n",
    "print(\"Test Error Rate for Iris : \",1 - A)\n",
    "print(\"No of Errors for iris: \",n)"
   ]
  },
  {
   "cell_type": "code",
   "execution_count": 35,
   "metadata": {},
   "outputs": [
    {
     "name": "stdout",
     "output_type": "stream",
     "text": [
      "Accuracy for Iris with 3 neighbours : 0.9736842105263158\n",
      "Test Error Rate for Iris with 3 neighbours considered :  0.02631578947368418\n"
     ]
    }
   ],
   "source": [
    "from sklearn.neighbors import KNeighborsClassifier\n",
    "knn = KNeighborsClassifier(n_neighbors=3)\n",
    "knn.fit(X_train, y_train)\n",
    "abc=knn.score(X_test,y_test)\n",
    "print(\"Accuracy for Iris with 3 neighbours :\",abc)\n",
    "print(\"Test Error Rate for Iris with 3 neighbours considered : \",1 - abc)\n",
    "\n"
   ]
  },
  {
   "cell_type": "code",
   "execution_count": 30,
   "metadata": {},
   "outputs": [
    {
     "name": "stdout",
     "output_type": "stream",
     "text": [
      "Test Error Rate for Ionosphere:  0.1477272727272727\n",
      "No of Errors for Ionosphere:  13\n"
     ]
    }
   ],
   "source": [
    "Iy_pred=predict(IX_train,IY_train,IX_test)\n",
    "A = np.mean(Iy_pred==IY_test)\n",
    "n=0\n",
    "size=IY_test.shape[0]\n",
    "for k in range(size):                   # to compute total error from ionosphere data\n",
    "    if(Iy_pred[k]!=IY_test[k]):\n",
    "            n=n+1        \n",
    "print(\"Test Error Rate for Ionosphere: \",1 - A)\n",
    "print(\"No of Errors for Ionosphere: \",n)\n"
   ]
  },
  {
   "cell_type": "code",
   "execution_count": 36,
   "metadata": {},
   "outputs": [
    {
     "name": "stdout",
     "output_type": "stream",
     "text": [
      "Accuracy for Ionosphere with 3 neighbours : 0.8636363636363636\n",
      "Test Error Rate for Ionosphere with 3 neighbours considered :  0.13636363636363635\n"
     ]
    }
   ],
   "source": [
    "knn.fit(IX_train, IY_train)\n",
    "xyz=knn.score(IX_test,IY_test)\n",
    "print(\"Accuracy for Ionosphere with 3 neighbours :\",xyz)\n",
    "print(\"Test Error Rate for Ionosphere with 3 neighbours considered : \",1 - xyz)"
   ]
  },
  {
   "cell_type": "code",
   "execution_count": null,
   "metadata": {},
   "outputs": [],
   "source": []
  }
 ],
 "metadata": {
  "kernelspec": {
   "display_name": "Python 3",
   "language": "python",
   "name": "python3"
  },
  "language_info": {
   "codemirror_mode": {
    "name": "ipython",
    "version": 3
   },
   "file_extension": ".py",
   "mimetype": "text/x-python",
   "name": "python",
   "nbconvert_exporter": "python",
   "pygments_lexer": "ipython3",
   "version": "3.8.5"
  }
 },
 "nbformat": 4,
 "nbformat_minor": 4
}
